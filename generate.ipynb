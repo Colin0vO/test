{
 "cells": [
  {
   "cell_type": "code",
   "execution_count": 1,
   "metadata": {},
   "outputs": [],
   "source": [
    "import random\n",
    "\n",
    "symbols = [\"aaa\", \"aab\", \"aac\", \"bbb\", \"ccc\", \"ddd\", \"eee\", \"fff\", \"ggg\", \"hhh\"]\n",
    "base_timestamp = 52920000\n",
    "\n",
    "with open(\"input.csv\", \"w\") as f:\n",
    "    for i in range(400):\n",
    "        # 时间戳：基本值加上 i 倍的随机递增（模拟交易时间间隔）\n",
    "        timestamp = base_timestamp + i * random.randint(1, 20)\n",
    "        symbol = random.choice(symbols)\n",
    "        quantity = random.randint(1, 50)\n",
    "        price = random.randint(500, 1500)\n",
    "        f.write(f\"{timestamp},{symbol},{quantity},{price}\\n\")\n"
   ]
  },
  {
   "cell_type": "code",
   "execution_count": 4,
   "metadata": {},
   "outputs": [],
   "source": [
    "import random\n",
    "import itertools\n",
    "import string\n",
    "\n",
    "all_symbols = [''.join(p) for p in itertools.product(string.ascii_lowercase, repeat=3)]\n",
    "symbols = random.sample(all_symbols, 100)\n",
    "timestamp = 52920000\n",
    "\n",
    "with open(\"input_10000.csv\", \"w\") as f:\n",
    "    for _ in range(10000):\n",
    "        timestamp += random.randint(1, 30)\n",
    "        symbol = random.choice(symbols)\n",
    "        quantity = random.randint(1, 100)\n",
    "        price = random.randint(500, 2000)\n",
    "        f.write(f\"{timestamp},{symbol},{quantity},{price}\\n\")\n"
   ]
  }
 ],
 "metadata": {
  "kernelspec": {
   "display_name": "base",
   "language": "python",
   "name": "python3"
  },
  "language_info": {
   "codemirror_mode": {
    "name": "ipython",
    "version": 3
   },
   "file_extension": ".py",
   "mimetype": "text/x-python",
   "name": "python",
   "nbconvert_exporter": "python",
   "pygments_lexer": "ipython3",
   "version": "3.11.5"
  }
 },
 "nbformat": 4,
 "nbformat_minor": 2
}
